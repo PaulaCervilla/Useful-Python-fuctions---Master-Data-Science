{
 "cells": [
  {
   "cell_type": "markdown",
   "metadata": {},
   "source": [
    "# Principal Component Analysis (PCA)"
   ]
  },
  {
   "cell_type": "code",
   "execution_count": 15,
   "metadata": {},
   "outputs": [],
   "source": [
    "#Principal Component Analysis:\n",
    "\n",
    "def pca(X):\n",
    "    X = (X-X.mean())/X.std()\n",
    "    cov = np.cov(X.T)\n",
    "    U,S,V = la.svd(cov) #The first matrix is the principal component matrix\n",
    "    return U \n",
    "\n",
    "def project_data(X,U,k): #k is the dimension\n",
    "    U_reduced = U[:,:k]\n",
    "    return np.dot(X,U_reduced) #Multiplies dataset \"X\" by reduced \"U\" matrix. \n",
    "                               #This is the projection of X in the dimension we want to reduce to.\n",
    "#Z = project_data(X,U,k)\n",
    "\n",
    "def recover_data(Z,U,k): #Returns to the original dimension. Z is in the singular dimension\n",
    "    U_reduced=U[:,:k]    #We need to return to our real/original dimension to be able to plot the data.\n",
    "    return np.dot(Z,U_reduced.T)\n",
    "\n",
    "#X_recovered = recover_data(Z,U,k)"
   ]
  },
  {
   "cell_type": "code",
   "execution_count": 16,
   "metadata": {},
   "outputs": [],
   "source": [
    "#This function is only a silly example, I'm trying to add it to GitHub without deleting the previous commit\n",
    "\n",
    "def suma(a, b):\n",
    "    ''' This is the same as sum'''\n",
    "    return a + b"
   ]
  },
  {
   "cell_type": "markdown",
   "metadata": {},
   "source": [
    "# Count number of words in x first lines of a text file"
   ]
  },
  {
   "cell_type": "code",
   "execution_count": 17,
   "metadata": {},
   "outputs": [
    {
     "name": "stdout",
     "output_type": "stream",
     "text": [
      "16\n"
     ]
    }
   ],
   "source": [
    "#How many words do the first 5 lines of the Finn.txt file have?\n",
    "\n",
    "file_path = \"/home/dsc/data/shell/Finn.txt\"\n",
    "n_lines = 5\n",
    "total_words = 0\n",
    "\n",
    "with open (file_path, \"r\") as f:\n",
    "    \n",
    "    for i in range(n_lines):\n",
    "        line = f.readline()\n",
    "        \n",
    "        if not line:\n",
    "            break\n",
    "            \n",
    "        line_words = len(line.split())\n",
    "        total_words += line_words\n",
    "        \n",
    "    print(total_words)"
   ]
  },
  {
   "cell_type": "markdown",
   "metadata": {},
   "source": [
    "# Returns numbers with all even digits between 2 numbers given"
   ]
  },
  {
   "cell_type": "code",
   "execution_count": 18,
   "metadata": {},
   "outputs": [],
   "source": [
    "def even_digits (x,y):\n",
    "    \n",
    "    even_numbers= []\n",
    "    all_even = False\n",
    "\n",
    "    for number in range(x,y+1):\n",
    "    \n",
    "        for digit in str(number):    \n",
    "            if int(digit) % 2 == 0:\n",
    "                all_even = True\n",
    "            else: \n",
    "                all_even = False\n",
    "                break   \n",
    "                \n",
    "        if all_even:\n",
    "            even_numbers.append(number)\n",
    "    \n",
    "    return even_numbers"
   ]
  },
  {
   "cell_type": "markdown",
   "metadata": {},
   "source": [
    "# Check if a string is palindrome or not"
   ]
  },
  {
   "cell_type": "code",
   "execution_count": 19,
   "metadata": {},
   "outputs": [],
   "source": [
    "#A palindrome is a word, phrase, or sequence that reads the same backwards as forwards, e.g. madam or nurses run\n",
    "\n",
    "def is_palindrome (sentence):\n",
    "    \n",
    "    result = True\n",
    "    \n",
    "    sentence = sentence.replace(\" \",\"\") #If you don't this, it doesn't work with a sentence that contains spaces\n",
    "    \n",
    "    for i in range(len(sentence)):\n",
    "        \n",
    "        print(sentence[i].lower(),sentence[-i -1].lower())\n",
    "            \n",
    "        if sentence[i].lower() != sentence[-i -1].lower():\n",
    "            \n",
    "            result = False\n",
    "            \n",
    "    return result"
   ]
  },
  {
   "cell_type": "code",
   "execution_count": 20,
   "metadata": {},
   "outputs": [],
   "source": [
    "def is_palindrome2 (sentence):\n",
    "    \n",
    "    sentence = sentence.replace(\" \",\"\").lower()\n",
    "    \n",
    "    return sentence == sentence [::-1]"
   ]
  },
  {
   "cell_type": "markdown",
   "metadata": {},
   "source": [
    "# Returns count of upper/lower case letters in a string"
   ]
  },
  {
   "cell_type": "code",
   "execution_count": 21,
   "metadata": {},
   "outputs": [],
   "source": [
    "def upper_lower (a_string):\n",
    "    \n",
    "    index = 0\n",
    "    upper = 0\n",
    "    lower = 0\n",
    "    \n",
    "    while index < len(a_string):\n",
    "        \n",
    "        letter = a_string[index]\n",
    "            \n",
    "        if letter.islower() == True:\n",
    "\n",
    "            lower += 1\n",
    "\n",
    "        else:\n",
    "            if letter.isupper() == True:\n",
    "                upper += 1\n",
    "        index += 1\n",
    "            \n",
    "\n",
    "    return print(\"Count of upper case letters: %d, Count of lower case letters: %d\" %(upper, lower))"
   ]
  },
  {
   "cell_type": "code",
   "execution_count": null,
   "metadata": {},
   "outputs": [],
   "source": []
  },
  {
   "cell_type": "code",
   "execution_count": null,
   "metadata": {},
   "outputs": [],
   "source": []
  }
 ],
 "metadata": {
  "kernelspec": {
   "display_name": "Python 3",
   "language": "python",
   "name": "python3"
  },
  "language_info": {
   "codemirror_mode": {
    "name": "ipython",
    "version": 3
   },
   "file_extension": ".py",
   "mimetype": "text/x-python",
   "name": "python",
   "nbconvert_exporter": "python",
   "pygments_lexer": "ipython3",
   "version": "3.8.5"
  }
 },
 "nbformat": 4,
 "nbformat_minor": 4
}
