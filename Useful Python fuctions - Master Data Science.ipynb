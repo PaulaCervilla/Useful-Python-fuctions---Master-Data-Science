{
 "cells": [
  {
   "cell_type": "markdown",
   "metadata": {},
   "source": [
    "# Principal Component Analysis (PCA)"
   ]
  },
  {
   "cell_type": "code",
   "execution_count": 6,
   "metadata": {},
   "outputs": [],
   "source": [
    "#Principal Component Analysis:\n",
    "\n",
    "def pca(X):\n",
    "    X = (X-X.mean())/X.std()\n",
    "    cov = np.cov(X.T)\n",
    "    U,S,V = la.svd(cov) #The first matrix is the principal component matrix\n",
    "    return U \n",
    "\n",
    "def project_data(X,U,k): #k is the dimension\n",
    "    U_reduced = U[:,:k]\n",
    "    return np.dot(X,U_reduced) #Multiplies dataset \"X\" by reduced \"U\" matrix. \n",
    "                               #This is the projection of X in the dimension we want to reduce to.\n",
    "#Z = project_data(X,U,k)\n",
    "\n",
    "def recover_data(Z,U,k): #Returns to the original dimension. Z is in the singular dimension\n",
    "    U_reduced=U[:,:k]    #We need to return to our real/original dimension to be able to plot the data.\n",
    "    return np.dot(Z,U_reduced.T)\n",
    "\n",
    "#X_recovered = recover_data(Z,U,k)"
   ]
  },
  {
   "cell_type": "code",
   "execution_count": null,
   "metadata": {},
   "outputs": [],
   "source": []
  }
 ],
 "metadata": {
  "kernelspec": {
   "display_name": "Python 3",
   "language": "python",
   "name": "python3"
  },
  "language_info": {
   "codemirror_mode": {
    "name": "ipython",
    "version": 3
   },
   "file_extension": ".py",
   "mimetype": "text/x-python",
   "name": "python",
   "nbconvert_exporter": "python",
   "pygments_lexer": "ipython3",
   "version": "3.8.5"
  }
 },
 "nbformat": 4,
 "nbformat_minor": 4
}
